{
 "cells": [
  {
   "cell_type": "code",
   "execution_count": 40,
   "outputs": [],
   "source": [
    "import torch\n",
    "from matplotlib import pyplot as plt\n",
    "from utils import processText, get_batch,data_loader\n",
    "from model import CBOWHierarchicalSoftmax\n",
    "device = torch.device(\"cuda\" if torch.cuda.is_available() else \"cpu\")"
   ],
   "metadata": {
    "collapsed": false,
    "ExecuteTime": {
     "end_time": "2023-05-18T02:01:12.571152Z",
     "start_time": "2023-05-18T02:01:12.561346Z"
    }
   }
  },
  {
   "cell_type": "code",
   "execution_count": 41,
   "outputs": [
    {
     "name": "stdout",
     "output_type": "stream",
     "text": [
      "842\n"
     ]
    }
   ],
   "source": [
    "# 输入的文本\n",
    "filepath = '../text_txt/1.txt'\n",
    "raw_text = data_loader(filepath)[0:5000]\n",
    "print(len(processText(raw_text)))"
   ],
   "metadata": {
    "collapsed": false,
    "ExecuteTime": {
     "end_time": "2023-05-18T02:01:12.571306Z",
     "start_time": "2023-05-18T02:01:12.564899Z"
    }
   }
  },
  {
   "cell_type": "code",
   "execution_count": 42,
   "outputs": [],
   "source": [
    "# Global Variables\n",
    "# 输入是1*V的矩阵，V是词汇表的大小\n",
    "EMDEDDING_DIM = 100  # 词向量维度, 词向量的维度一般是50, 100, 200, 300维, 是矩阵的列数\n",
    "EPOCHS_NUM = 50  # 训练的轮数\n",
    "INCREMENTAL_NUM = 5\n",
    "BATCH_SIZE = 100"
   ],
   "metadata": {
    "collapsed": false,
    "ExecuteTime": {
     "end_time": "2023-05-18T02:01:12.575148Z",
     "start_time": "2023-05-18T02:01:12.571826Z"
    }
   }
  },
  {
   "cell_type": "code",
   "execution_count": 43,
   "outputs": [],
   "source": [
    "def run_pic(epochs_num):\n",
    "    accuracy_List = []\n",
    "    train_time_List = []\n",
    "    predict_time_List = []\n",
    "    for i in range(0,INCREMENTAL_NUM):\n",
    "        if i == 0:\n",
    "            # 初始化一个模型\n",
    "            new_text = processText(raw_text)[i*BATCH_SIZE:(i+1)*BATCH_SIZE]\n",
    "            cbow_model = CBOWHierarchicalSoftmax(new_text,EMDEDDING_DIM, device)\n",
    "            training_data = get_batch(new_text)\n",
    "            train_time_cost = cbow_model.train(training_data,epochs_num=epochs_num)\n",
    "            validation_data = training_data # 用训练数据来验证\n",
    "            predict_time_cost, accuracy = cbow_model.predict(validation_data)\n",
    "        else:\n",
    "            new_text = processText(raw_text)[i*BATCH_SIZE:(i+1)*BATCH_SIZE]\n",
    "            cbow_model.update_new_data(new_text)\n",
    "            training_data = get_batch(new_text)\n",
    "            train_time_cost = cbow_model.train(training_data,epochs_num=EPOCHS_NUM)\n",
    "            validation_data = training_data # 用训练数据来验证\n",
    "            predict_time_cost, accuracy = cbow_model.predict(validation_data)\n",
    "        accuracy_List.append(accuracy)\n",
    "        train_time_List.append(train_time_cost)\n",
    "        predict_time_List.append(predict_time_cost)\n",
    "    all_text = processText(raw_text)[0:INCREMENTAL_NUM * BATCH_SIZE]\n",
    "    training_data = get_batch(all_text)\n",
    "    predict_time_cost, all_data_accuracy = cbow_model.predict(training_data)\n",
    "    predict_time_List.append(predict_time_cost)\n",
    "    return accuracy_List, train_time_List, predict_time_List,all_data_accuracy\n"
   ],
   "metadata": {
    "collapsed": false,
    "ExecuteTime": {
     "end_time": "2023-05-18T02:01:12.598061Z",
     "start_time": "2023-05-18T02:01:12.578330Z"
    }
   }
  },
  {
   "cell_type": "code",
   "execution_count": 44,
   "outputs": [
    {
     "name": "stderr",
     "output_type": "stream",
     "text": [
      "Building Huffman Tree: 100%|██████████| 64/64 [00:00<00:00, 30033.06it/s]\n",
      "100%|██████████| 10/10 [00:01<00:00,  5.05it/s, epoch=9, loss=tensor([[68.9360]]), target=och]            \n"
     ]
    },
    {
     "name": "stdout",
     "output_type": "stream",
     "text": [
      "训练时间: 1.9804019927978516s\n",
      "\n",
      "预测花费时间: 0.011602163314819336s\n",
      "\n",
      "正确率: 37.5%\n",
      "\n"
     ]
    },
    {
     "name": "stderr",
     "output_type": "stream",
     "text": [
      "Building Huffman Tree: 100%|██████████| 66/66 [00:00<00:00, 26676.69it/s]\n",
      "100%|██████████| 50/50 [00:14<00:00,  3.46it/s, epoch=49, loss=tensor([[55.3159]], grad_fn=<AddBackward0>), target=11]              \n"
     ]
    },
    {
     "name": "stdout",
     "output_type": "stream",
     "text": [
      "训练时间: 14.45159912109375s\n",
      "\n",
      "预测花费时间: 0.01733565330505371s\n",
      "\n",
      "正确率: 91.66666666666666%\n",
      "\n"
     ]
    },
    {
     "name": "stderr",
     "output_type": "stream",
     "text": [
      "Building Huffman Tree: 100%|██████████| 67/67 [00:00<00:00, 26927.79it/s]\n",
      "100%|██████████| 50/50 [00:15<00:00,  3.16it/s, epoch=49, loss=tensor([[62.4359]], grad_fn=<AddBackward0>), target=blåste]     \n"
     ]
    },
    {
     "name": "stdout",
     "output_type": "stream",
     "text": [
      "训练时间: 15.837013006210327s\n",
      "\n",
      "预测花费时间: 0.01912713050842285s\n",
      "\n",
      "正确率: 93.75%\n",
      "\n"
     ]
    },
    {
     "name": "stderr",
     "output_type": "stream",
     "text": [
      "Building Huffman Tree: 100%|██████████| 51/51 [00:00<00:00, 23717.65it/s]\n",
      "100%|██████████| 50/50 [00:15<00:00,  3.22it/s, epoch=49, loss=tensor([[48.1350]], grad_fn=<AddBackward0>), target=oss]         \n"
     ]
    },
    {
     "name": "stdout",
     "output_type": "stream",
     "text": [
      "训练时间: 15.506259202957153s\n",
      "\n",
      "预测花费时间: 0.019989013671875s\n",
      "\n",
      "正确率: 92.70833333333334%\n",
      "\n"
     ]
    },
    {
     "name": "stderr",
     "output_type": "stream",
     "text": [
      "Building Huffman Tree: 100%|██████████| 23/23 [00:00<00:00, 11099.87it/s]\n",
      "100%|██████████| 50/50 [00:14<00:00,  3.34it/s, epoch=49, loss=tensor([[105.2392]], grad_fn=<AddBackward0>), target=mark]       \n"
     ]
    },
    {
     "name": "stdout",
     "output_type": "stream",
     "text": [
      "训练时间: 14.97976303100586s\n",
      "\n",
      "预测花费时间: 0.016515731811523438s\n",
      "\n",
      "正确率: 87.5%\n",
      "\n",
      "预测花费时间: 0.07278990745544434s\n",
      "\n",
      "正确率: 43.346774193548384%\n",
      "\n"
     ]
    },
    {
     "name": "stderr",
     "output_type": "stream",
     "text": [
      "Building Huffman Tree: 100%|██████████| 64/64 [00:00<00:00, 45815.92it/s]\n",
      "100%|██████████| 50/50 [00:08<00:00,  5.85it/s, epoch=49, loss=tensor([[48.9207]]), target=och]            \n"
     ]
    },
    {
     "name": "stdout",
     "output_type": "stream",
     "text": [
      "训练时间: 8.546240091323853s\n",
      "\n",
      "预测花费时间: 0.009922027587890625s\n",
      "\n",
      "正确率: 86.45833333333334%\n",
      "\n"
     ]
    },
    {
     "name": "stderr",
     "output_type": "stream",
     "text": [
      "Building Huffman Tree: 100%|██████████| 66/66 [00:00<00:00, 30234.17it/s]\n",
      "100%|██████████| 50/50 [00:12<00:00,  4.16it/s, epoch=49, loss=tensor([[39.8059]], grad_fn=<AddBackward0>), target=11]              \n"
     ]
    },
    {
     "name": "stdout",
     "output_type": "stream",
     "text": [
      "训练时间: 12.005622863769531s\n",
      "\n",
      "预测花费时间: 0.015913963317871094s\n",
      "\n",
      "正确率: 94.79166666666666%\n",
      "\n"
     ]
    },
    {
     "name": "stderr",
     "output_type": "stream",
     "text": [
      "Building Huffman Tree: 100%|██████████| 67/67 [00:00<00:00, 29662.06it/s]\n",
      "100%|██████████| 50/50 [00:14<00:00,  3.43it/s, epoch=49, loss=tensor([[28.9115]], grad_fn=<AddBackward0>), target=blåste]      \n"
     ]
    },
    {
     "name": "stdout",
     "output_type": "stream",
     "text": [
      "训练时间: 14.570466995239258s\n",
      "\n",
      "预测花费时间: 0.018007993698120117s\n",
      "\n",
      "正确率: 92.70833333333334%\n",
      "\n"
     ]
    },
    {
     "name": "stderr",
     "output_type": "stream",
     "text": [
      "Building Huffman Tree: 100%|██████████| 51/51 [00:00<00:00, 23675.65it/s]\n",
      "100%|██████████| 50/50 [00:14<00:00,  3.48it/s, epoch=49, loss=tensor([[98.3661]], grad_fn=<AddBackward0>), target=oss]         \n"
     ]
    },
    {
     "name": "stdout",
     "output_type": "stream",
     "text": [
      "训练时间: 14.34902310371399s\n",
      "\n",
      "预测花费时间: 0.01964092254638672s\n",
      "\n",
      "正确率: 89.58333333333334%\n",
      "\n"
     ]
    },
    {
     "name": "stderr",
     "output_type": "stream",
     "text": [
      "Building Huffman Tree: 100%|██████████| 23/23 [00:00<00:00, 18594.64it/s]\n",
      "100%|██████████| 50/50 [00:14<00:00,  3.55it/s, epoch=49, loss=tensor([[95.9144]], grad_fn=<AddBackward0>), target=mark]        \n"
     ]
    },
    {
     "name": "stdout",
     "output_type": "stream",
     "text": [
      "训练时间: 14.103092908859253s\n",
      "\n",
      "预测花费时间: 0.017834901809692383s\n",
      "\n",
      "正确率: 86.45833333333334%\n",
      "\n",
      "预测花费时间: 0.07771706581115723s\n",
      "\n",
      "正确率: 50.201612903225815%\n",
      "\n"
     ]
    },
    {
     "name": "stderr",
     "output_type": "stream",
     "text": [
      "Building Huffman Tree: 100%|██████████| 64/64 [00:00<00:00, 38512.98it/s]\n",
      "100%|██████████| 100/100 [00:17<00:00,  5.70it/s, epoch=99, loss=tensor([[95.7081]]), target=och]           \n"
     ]
    },
    {
     "name": "stdout",
     "output_type": "stream",
     "text": [
      "训练时间: 17.549754858016968s\n",
      "\n",
      "预测花费时间: 0.010793924331665039s\n",
      "\n",
      "正确率: 94.79166666666666%\n",
      "\n"
     ]
    },
    {
     "name": "stderr",
     "output_type": "stream",
     "text": [
      "Building Huffman Tree: 100%|██████████| 66/66 [00:00<00:00, 27790.79it/s]\n",
      "100%|██████████| 50/50 [00:11<00:00,  4.17it/s, epoch=49, loss=tensor([[63.5329]], grad_fn=<AddBackward0>), target=11]              \n"
     ]
    },
    {
     "name": "stdout",
     "output_type": "stream",
     "text": [
      "训练时间: 11.98020076751709s\n",
      "\n",
      "预测花费时间: 0.015697240829467773s\n",
      "\n",
      "正确率: 92.70833333333334%\n",
      "\n"
     ]
    },
    {
     "name": "stderr",
     "output_type": "stream",
     "text": [
      "Building Huffman Tree: 100%|██████████| 67/67 [00:00<00:00, 26672.21it/s]\n",
      "100%|██████████| 50/50 [00:13<00:00,  3.66it/s, epoch=49, loss=tensor([[31.3983]], grad_fn=<AddBackward0>), target=blåste]     \n"
     ]
    },
    {
     "name": "stdout",
     "output_type": "stream",
     "text": [
      "训练时间: 13.660045862197876s\n",
      "\n",
      "预测花费时间: 0.018690109252929688s\n",
      "\n",
      "正确率: 88.54166666666666%\n",
      "\n"
     ]
    },
    {
     "name": "stderr",
     "output_type": "stream",
     "text": [
      "Building Huffman Tree: 100%|██████████| 51/51 [00:00<00:00, 31461.91it/s]\n",
      "100%|██████████| 50/50 [00:13<00:00,  3.71it/s, epoch=49, loss=tensor([[142.9621]], grad_fn=<AddBackward0>), target=oss]        \n"
     ]
    },
    {
     "name": "stdout",
     "output_type": "stream",
     "text": [
      "训练时间: 13.494976997375488s\n",
      "\n",
      "预测花费时间: 0.017528772354125977s\n",
      "\n",
      "正确率: 88.54166666666666%\n",
      "\n"
     ]
    },
    {
     "name": "stderr",
     "output_type": "stream",
     "text": [
      "Building Huffman Tree: 100%|██████████| 23/23 [00:00<00:00, 12391.65it/s]\n",
      "100%|██████████| 50/50 [00:13<00:00,  3.59it/s, epoch=49, loss=tensor([[129.4657]], grad_fn=<AddBackward0>), target=mark]       \n"
     ]
    },
    {
     "name": "stdout",
     "output_type": "stream",
     "text": [
      "训练时间: 13.935428857803345s\n",
      "\n",
      "预测花费时间: 0.016427993774414062s\n",
      "\n",
      "正确率: 90.625%\n",
      "\n",
      "预测花费时间: 0.07318401336669922s\n",
      "\n",
      "正确率: 49.193548387096776%\n",
      "\n"
     ]
    },
    {
     "name": "stderr",
     "output_type": "stream",
     "text": [
      "Building Huffman Tree: 100%|██████████| 64/64 [00:00<00:00, 40227.10it/s]\n",
      "100%|██████████| 200/200 [00:35<00:00,  5.66it/s, epoch=199, loss=tensor([[48.8724]]), target=och]            \n"
     ]
    },
    {
     "name": "stdout",
     "output_type": "stream",
     "text": [
      "训练时间: 35.35489201545715s\n",
      "\n",
      "预测花费时间: 0.009828805923461914s\n",
      "\n",
      "正确率: 96.875%\n",
      "\n"
     ]
    },
    {
     "name": "stderr",
     "output_type": "stream",
     "text": [
      "Building Huffman Tree: 100%|██████████| 66/66 [00:00<00:00, 36665.44it/s]\n",
      "100%|██████████| 50/50 [00:11<00:00,  4.18it/s, epoch=49, loss=tensor([[94.2556]], grad_fn=<AddBackward0>), target=11]               \n"
     ]
    },
    {
     "name": "stdout",
     "output_type": "stream",
     "text": [
      "训练时间: 11.9665846824646s\n",
      "\n",
      "预测花费时间: 0.01552891731262207s\n",
      "\n",
      "正确率: 97.91666666666666%\n",
      "\n"
     ]
    },
    {
     "name": "stderr",
     "output_type": "stream",
     "text": [
      "Building Huffman Tree: 100%|██████████| 67/67 [00:00<00:00, 33939.42it/s]\n",
      "100%|██████████| 50/50 [00:13<00:00,  3.79it/s, epoch=49, loss=tensor([[63.6322]], grad_fn=<AddBackward0>), target=blåste]     \n"
     ]
    },
    {
     "name": "stdout",
     "output_type": "stream",
     "text": [
      "训练时间: 13.19376802444458s\n",
      "\n",
      "预测花费时间: 0.01752495765686035s\n",
      "\n",
      "正确率: 92.70833333333334%\n",
      "\n"
     ]
    },
    {
     "name": "stderr",
     "output_type": "stream",
     "text": [
      "Building Huffman Tree: 100%|██████████| 51/51 [00:00<00:00, 33997.06it/s]\n",
      "100%|██████████| 50/50 [00:14<00:00,  3.56it/s, epoch=49, loss=tensor([[70.2348]], grad_fn=<AddBackward0>), target=oss]         \n"
     ]
    },
    {
     "name": "stdout",
     "output_type": "stream",
     "text": [
      "训练时间: 14.056288003921509s\n",
      "\n",
      "预测花费时间: 0.01708388328552246s\n",
      "\n",
      "正确率: 87.5%\n",
      "\n"
     ]
    },
    {
     "name": "stderr",
     "output_type": "stream",
     "text": [
      "Building Huffman Tree: 100%|██████████| 23/23 [00:00<00:00, 22481.70it/s]\n",
      "100%|██████████| 50/50 [00:15<00:00,  3.29it/s, epoch=49, loss=tensor([[143.1100]], grad_fn=<AddBackward0>), target=mark]       \n"
     ]
    },
    {
     "name": "stdout",
     "output_type": "stream",
     "text": [
      "训练时间: 15.18568229675293s\n",
      "\n",
      "预测花费时间: 0.021981239318847656s\n",
      "\n",
      "正确率: 87.5%\n",
      "\n",
      "预测花费时间: 0.08657002449035645s\n",
      "\n",
      "正确率: 48.79032258064516%\n",
      "\n"
     ]
    },
    {
     "name": "stderr",
     "output_type": "stream",
     "text": [
      "Building Huffman Tree: 100%|██████████| 64/64 [00:00<00:00, 31685.02it/s]\n",
      "100%|██████████| 300/300 [01:00<00:00,  4.92it/s, epoch=299, loss=tensor([[63.0012]]), target=och]            \n"
     ]
    },
    {
     "name": "stdout",
     "output_type": "stream",
     "text": [
      "训练时间: 60.984291076660156s\n",
      "\n",
      "预测花费时间: 0.011195182800292969s\n",
      "\n",
      "正确率: 97.91666666666666%\n",
      "\n"
     ]
    },
    {
     "name": "stderr",
     "output_type": "stream",
     "text": [
      "Building Huffman Tree: 100%|██████████| 66/66 [00:00<00:00, 22948.19it/s]\n",
      "100%|██████████| 50/50 [00:13<00:00,  3.64it/s, epoch=49, loss=tensor([[83.0700]], grad_fn=<AddBackward0>), target=11]              \n"
     ]
    },
    {
     "name": "stdout",
     "output_type": "stream",
     "text": [
      "训练时间: 13.744991064071655s\n",
      "\n",
      "预测花费时间: 0.01594710350036621s\n",
      "\n",
      "正确率: 96.875%\n",
      "\n"
     ]
    },
    {
     "name": "stderr",
     "output_type": "stream",
     "text": [
      "Building Huffman Tree: 100%|██████████| 67/67 [00:00<00:00, 21176.97it/s]\n",
      "100%|██████████| 50/50 [00:15<00:00,  3.22it/s, epoch=49, loss=tensor([[54.7934]], grad_fn=<AddBackward0>), target=blåste]     \n"
     ]
    },
    {
     "name": "stdout",
     "output_type": "stream",
     "text": [
      "训练时间: 15.521935939788818s\n",
      "\n",
      "预测花费时间: 0.017614126205444336s\n",
      "\n",
      "正确率: 94.79166666666666%\n",
      "\n"
     ]
    },
    {
     "name": "stderr",
     "output_type": "stream",
     "text": [
      "Building Huffman Tree: 100%|██████████| 51/51 [00:00<00:00, 29738.57it/s]\n",
      "100%|██████████| 50/50 [00:14<00:00,  3.37it/s, epoch=49, loss=tensor([[110.9855]], grad_fn=<AddBackward0>), target=oss]         \n"
     ]
    },
    {
     "name": "stdout",
     "output_type": "stream",
     "text": [
      "训练时间: 14.859900951385498s\n",
      "\n",
      "预测花费时间: 0.017353057861328125s\n",
      "\n",
      "正确率: 87.5%\n",
      "\n"
     ]
    },
    {
     "name": "stderr",
     "output_type": "stream",
     "text": [
      "Building Huffman Tree: 100%|██████████| 23/23 [00:00<00:00, 18427.70it/s]\n",
      "100%|██████████| 50/50 [00:13<00:00,  3.82it/s, epoch=49, loss=tensor([[92.2690]], grad_fn=<AddBackward0>), target=mark]        \n"
     ]
    },
    {
     "name": "stdout",
     "output_type": "stream",
     "text": [
      "训练时间: 13.087362051010132s\n",
      "\n",
      "预测花费时间: 0.016717195510864258s\n",
      "\n",
      "正确率: 88.54166666666666%\n",
      "\n",
      "预测花费时间: 0.07358098030090332s\n",
      "\n",
      "正确率: 53.2258064516129%\n",
      "\n"
     ]
    },
    {
     "name": "stderr",
     "output_type": "stream",
     "text": [
      "Building Huffman Tree: 100%|██████████| 64/64 [00:00<00:00, 32804.04it/s]\n",
      "100%|██████████| 400/400 [01:06<00:00,  6.04it/s, epoch=399, loss=tensor([[87.7399]]), target=och]            \n"
     ]
    },
    {
     "name": "stdout",
     "output_type": "stream",
     "text": [
      "训练时间: 66.19246315956116s\n",
      "\n",
      "预测花费时间: 0.010654211044311523s\n",
      "\n",
      "正确率: 97.91666666666666%\n",
      "\n"
     ]
    },
    {
     "name": "stderr",
     "output_type": "stream",
     "text": [
      "Building Huffman Tree: 100%|██████████| 66/66 [00:00<00:00, 47968.13it/s]\n",
      "100%|██████████| 50/50 [00:11<00:00,  4.31it/s, epoch=49, loss=tensor([[80.7589]], grad_fn=<AddBackward0>), target=11]              \n"
     ]
    },
    {
     "name": "stdout",
     "output_type": "stream",
     "text": [
      "训练时间: 11.592482089996338s\n",
      "\n",
      "预测花费时间: 0.016477108001708984s\n",
      "\n",
      "正确率: 92.70833333333334%\n",
      "\n"
     ]
    },
    {
     "name": "stderr",
     "output_type": "stream",
     "text": [
      "Building Huffman Tree: 100%|██████████| 67/67 [00:00<00:00, 36434.38it/s]\n",
      "100%|██████████| 50/50 [00:12<00:00,  3.90it/s, epoch=49, loss=tensor([[54.2692]], grad_fn=<AddBackward0>), target=blåste]     \n"
     ]
    },
    {
     "name": "stdout",
     "output_type": "stream",
     "text": [
      "训练时间: 12.808168888092041s\n",
      "\n",
      "预测花费时间: 0.017264127731323242s\n",
      "\n",
      "正确率: 90.625%\n",
      "\n"
     ]
    },
    {
     "name": "stderr",
     "output_type": "stream",
     "text": [
      "Building Huffman Tree: 100%|██████████| 51/51 [00:00<00:00, 36684.87it/s]\n",
      "100%|██████████| 50/50 [00:13<00:00,  3.84it/s, epoch=49, loss=tensor([[73.2405]], grad_fn=<AddBackward0>), target=oss]         \n"
     ]
    },
    {
     "name": "stdout",
     "output_type": "stream",
     "text": [
      "训练时间: 13.032247066497803s\n",
      "\n",
      "预测花费时间: 0.01659226417541504s\n",
      "\n",
      "正确率: 86.45833333333334%\n",
      "\n"
     ]
    },
    {
     "name": "stderr",
     "output_type": "stream",
     "text": [
      "Building Huffman Tree: 100%|██████████| 23/23 [00:00<00:00, 28822.53it/s]\n",
      "100%|██████████| 50/50 [00:12<00:00,  3.99it/s, epoch=49, loss=tensor([[153.4129]], grad_fn=<AddBackward0>), target=mark]       \n"
     ]
    },
    {
     "name": "stdout",
     "output_type": "stream",
     "text": [
      "训练时间: 12.536567211151123s\n",
      "\n",
      "预测花费时间: 0.017745018005371094s\n",
      "\n",
      "正确率: 89.58333333333334%\n",
      "\n",
      "预测花费时间: 0.07601499557495117s\n",
      "\n",
      "正确率: 50.60483870967742%\n",
      "\n"
     ]
    },
    {
     "name": "stderr",
     "output_type": "stream",
     "text": [
      "Building Huffman Tree: 100%|██████████| 64/64 [00:00<00:00, 29234.97it/s]\n",
      "100%|██████████| 500/500 [01:22<00:00,  6.07it/s, epoch=499, loss=tensor([[134.7411]]), target=och]           \n"
     ]
    },
    {
     "name": "stdout",
     "output_type": "stream",
     "text": [
      "训练时间: 82.43464589118958s\n",
      "\n",
      "预测花费时间: 0.009761810302734375s\n",
      "\n",
      "正确率: 97.91666666666666%\n",
      "\n"
     ]
    },
    {
     "name": "stderr",
     "output_type": "stream",
     "text": [
      "Building Huffman Tree: 100%|██████████| 66/66 [00:00<00:00, 25097.38it/s]\n",
      "100%|██████████| 50/50 [00:11<00:00,  4.31it/s, epoch=49, loss=tensor([[56.2210]], grad_fn=<AddBackward0>), target=11]              \n"
     ]
    },
    {
     "name": "stdout",
     "output_type": "stream",
     "text": [
      "训练时间: 11.593481302261353s\n",
      "\n",
      "预测花费时间: 0.015276193618774414s\n",
      "\n",
      "正确率: 95.83333333333334%\n",
      "\n"
     ]
    },
    {
     "name": "stderr",
     "output_type": "stream",
     "text": [
      "Building Huffman Tree: 100%|██████████| 67/67 [00:00<00:00, 36330.75it/s]\n",
      "100%|██████████| 50/50 [00:12<00:00,  3.88it/s, epoch=49, loss=tensor([[62.7795]], grad_fn=<AddBackward0>), target=blåste]     \n"
     ]
    },
    {
     "name": "stdout",
     "output_type": "stream",
     "text": [
      "训练时间: 12.889256000518799s\n",
      "\n",
      "预测花费时间: 0.016573190689086914s\n",
      "\n",
      "正确率: 89.58333333333334%\n",
      "\n"
     ]
    },
    {
     "name": "stderr",
     "output_type": "stream",
     "text": [
      "Building Huffman Tree: 100%|██████████| 51/51 [00:00<00:00, 31822.30it/s]\n",
      "100%|██████████| 50/50 [00:12<00:00,  3.88it/s, epoch=49, loss=tensor([[137.9269]], grad_fn=<AddBackward0>), target=oss]        \n"
     ]
    },
    {
     "name": "stdout",
     "output_type": "stream",
     "text": [
      "训练时间: 12.872829914093018s\n",
      "\n",
      "预测花费时间: 0.016585826873779297s\n",
      "\n",
      "正确率: 85.41666666666666%\n",
      "\n"
     ]
    },
    {
     "name": "stderr",
     "output_type": "stream",
     "text": [
      "Building Huffman Tree: 100%|██████████| 23/23 [00:00<00:00, 21514.05it/s]\n",
      "100%|██████████| 50/50 [00:12<00:00,  3.93it/s, epoch=49, loss=tensor([[125.3215]], grad_fn=<AddBackward0>), target=mark]       \n"
     ]
    },
    {
     "name": "stdout",
     "output_type": "stream",
     "text": [
      "训练时间: 12.719122171401978s\n",
      "\n",
      "预测花费时间: 0.016827106475830078s\n",
      "\n",
      "正确率: 91.66666666666666%\n",
      "\n",
      "预测花费时间: 0.07262396812438965s\n",
      "\n",
      "正确率: 49.193548387096776%\n",
      "\n"
     ]
    },
    {
     "name": "stderr",
     "output_type": "stream",
     "text": [
      "Building Huffman Tree: 100%|██████████| 64/64 [00:00<00:00, 38999.78it/s]\n",
      "100%|██████████| 600/600 [01:38<00:00,  6.07it/s, epoch=599, loss=tensor([[69.2029]]), target=och]            \n"
     ]
    },
    {
     "name": "stdout",
     "output_type": "stream",
     "text": [
      "训练时间: 98.92221212387085s\n",
      "\n",
      "预测花费时间: 0.010079145431518555s\n",
      "\n",
      "正确率: 98.95833333333334%\n",
      "\n"
     ]
    },
    {
     "name": "stderr",
     "output_type": "stream",
     "text": [
      "Building Huffman Tree: 100%|██████████| 66/66 [00:00<00:00, 40871.71it/s]\n",
      "100%|██████████| 50/50 [00:11<00:00,  4.32it/s, epoch=49, loss=tensor([[47.8270]], grad_fn=<AddBackward0>), target=11]               \n"
     ]
    },
    {
     "name": "stdout",
     "output_type": "stream",
     "text": [
      "训练时间: 11.571393013000488s\n",
      "\n",
      "预测花费时间: 0.015739917755126953s\n",
      "\n",
      "正确率: 93.75%\n",
      "\n"
     ]
    },
    {
     "name": "stderr",
     "output_type": "stream",
     "text": [
      "Building Huffman Tree: 100%|██████████| 67/67 [00:00<00:00, 39979.85it/s]\n",
      "100%|██████████| 50/50 [00:12<00:00,  3.90it/s, epoch=49, loss=tensor([[37.7719]], grad_fn=<AddBackward0>), target=blåste]     \n"
     ]
    },
    {
     "name": "stdout",
     "output_type": "stream",
     "text": [
      "训练时间: 12.809246063232422s\n",
      "\n",
      "预测花费时间: 0.017286300659179688s\n",
      "\n",
      "正确率: 90.625%\n",
      "\n"
     ]
    },
    {
     "name": "stderr",
     "output_type": "stream",
     "text": [
      "Building Huffman Tree: 100%|██████████| 51/51 [00:00<00:00, 45746.26it/s]\n",
      "100%|██████████| 50/50 [00:12<00:00,  3.90it/s, epoch=49, loss=tensor([[98.9051]], grad_fn=<AddBackward0>), target=oss]         \n"
     ]
    },
    {
     "name": "stdout",
     "output_type": "stream",
     "text": [
      "训练时间: 12.824272155761719s\n",
      "\n",
      "预测花费时间: 0.017214059829711914s\n",
      "\n",
      "正确率: 95.83333333333334%\n",
      "\n"
     ]
    },
    {
     "name": "stderr",
     "output_type": "stream",
     "text": [
      "Building Huffman Tree: 100%|██████████| 23/23 [00:00<00:00, 17153.09it/s]\n",
      "100%|██████████| 50/50 [00:12<00:00,  3.96it/s, epoch=49, loss=tensor([[153.2082]], grad_fn=<AddBackward0>), target=mark]       \n"
     ]
    },
    {
     "name": "stdout",
     "output_type": "stream",
     "text": [
      "训练时间: 12.636090993881226s\n",
      "\n",
      "预测花费时间: 0.01780390739440918s\n",
      "\n",
      "正确率: 85.41666666666666%\n",
      "\n",
      "预测花费时间: 0.07590794563293457s\n",
      "\n",
      "正确率: 51.20967741935484%\n",
      "\n"
     ]
    },
    {
     "name": "stderr",
     "output_type": "stream",
     "text": [
      "Building Huffman Tree: 100%|██████████| 64/64 [00:00<00:00, 35297.23it/s]\n",
      "100%|██████████| 700/700 [01:55<00:00,  6.08it/s, epoch=699, loss=tensor([[68.9940]]), target=och]            \n"
     ]
    },
    {
     "name": "stdout",
     "output_type": "stream",
     "text": [
      "训练时间: 115.08442282676697s\n",
      "\n",
      "预测花费时间: 0.010492086410522461s\n",
      "\n",
      "正确率: 98.95833333333334%\n",
      "\n"
     ]
    },
    {
     "name": "stderr",
     "output_type": "stream",
     "text": [
      "Building Huffman Tree: 100%|██████████| 66/66 [00:00<00:00, 41590.15it/s]\n",
      "100%|██████████| 50/50 [00:12<00:00,  3.88it/s, epoch=49, loss=tensor([[72.4913]], grad_fn=<AddBackward0>), target=11]              \n"
     ]
    },
    {
     "name": "stdout",
     "output_type": "stream",
     "text": [
      "训练时间: 12.882663011550903s\n",
      "\n",
      "预测花费时间: 0.015390872955322266s\n",
      "\n",
      "正确率: 90.625%\n",
      "\n"
     ]
    },
    {
     "name": "stderr",
     "output_type": "stream",
     "text": [
      "Building Huffman Tree: 100%|██████████| 67/67 [00:00<00:00, 37685.18it/s]\n",
      "100%|██████████| 50/50 [00:13<00:00,  3.76it/s, epoch=49, loss=tensor([[43.6831]], grad_fn=<AddBackward0>), target=blåste]     \n"
     ]
    },
    {
     "name": "stdout",
     "output_type": "stream",
     "text": [
      "训练时间: 13.294159173965454s\n",
      "\n",
      "预测花费时间: 0.017152070999145508s\n",
      "\n",
      "正确率: 93.75%\n",
      "\n"
     ]
    },
    {
     "name": "stderr",
     "output_type": "stream",
     "text": [
      "Building Huffman Tree: 100%|██████████| 51/51 [00:00<00:00, 21852.03it/s]\n",
      "100%|██████████| 50/50 [00:13<00:00,  3.74it/s, epoch=49, loss=tensor([[113.2031]], grad_fn=<AddBackward0>), target=oss]        \n"
     ]
    },
    {
     "name": "stdout",
     "output_type": "stream",
     "text": [
      "训练时间: 13.370084762573242s\n",
      "\n",
      "预测花费时间: 0.017522811889648438s\n",
      "\n",
      "正确率: 83.33333333333334%\n",
      "\n"
     ]
    },
    {
     "name": "stderr",
     "output_type": "stream",
     "text": [
      "Building Huffman Tree: 100%|██████████| 23/23 [00:00<00:00, 22523.70it/s]\n",
      "100%|██████████| 50/50 [00:12<00:00,  3.85it/s, epoch=49, loss=tensor([[156.9500]], grad_fn=<AddBackward0>), target=mark]       \n"
     ]
    },
    {
     "name": "stdout",
     "output_type": "stream",
     "text": [
      "训练时间: 12.988933324813843s\n",
      "\n",
      "预测花费时间: 0.016194820404052734s\n",
      "\n",
      "正确率: 89.58333333333334%\n",
      "\n",
      "预测花费时间: 0.07200193405151367s\n",
      "\n",
      "正确率: 52.21774193548387%\n",
      "\n"
     ]
    },
    {
     "name": "stderr",
     "output_type": "stream",
     "text": [
      "Building Huffman Tree: 100%|██████████| 64/64 [00:00<00:00, 45069.75it/s]\n",
      "100%|██████████| 800/800 [02:15<00:00,  5.90it/s, epoch=799, loss=tensor([[80.0995]]), target=och]            \n"
     ]
    },
    {
     "name": "stdout",
     "output_type": "stream",
     "text": [
      "训练时间: 135.66090488433838s\n",
      "\n",
      "预测花费时间: 0.009936094284057617s\n",
      "\n",
      "正确率: 100.0%\n",
      "\n"
     ]
    },
    {
     "name": "stderr",
     "output_type": "stream",
     "text": [
      "Building Huffman Tree: 100%|██████████| 66/66 [00:00<00:00, 32415.00it/s]\n",
      "100%|██████████| 50/50 [00:12<00:00,  4.09it/s, epoch=49, loss=tensor([[90.2558]], grad_fn=<AddBackward0>), target=11]              \n"
     ]
    },
    {
     "name": "stdout",
     "output_type": "stream",
     "text": [
      "训练时间: 12.211191892623901s\n",
      "\n",
      "预测花费时间: 0.0157468318939209s\n",
      "\n",
      "正确率: 92.70833333333334%\n",
      "\n"
     ]
    },
    {
     "name": "stderr",
     "output_type": "stream",
     "text": [
      "Building Huffman Tree: 100%|██████████| 67/67 [00:00<00:00, 25584.34it/s]\n",
      "100%|██████████| 50/50 [00:13<00:00,  3.80it/s, epoch=49, loss=tensor([[71.7822]], grad_fn=<AddBackward0>), target=blåste]     \n"
     ]
    },
    {
     "name": "stdout",
     "output_type": "stream",
     "text": [
      "训练时间: 13.157907962799072s\n",
      "\n",
      "预测花费时间: 0.016093969345092773s\n",
      "\n",
      "正确率: 91.66666666666666%\n",
      "\n"
     ]
    },
    {
     "name": "stderr",
     "output_type": "stream",
     "text": [
      "Building Huffman Tree: 100%|██████████| 51/51 [00:00<00:00, 23352.57it/s]\n",
      "100%|██████████| 50/50 [00:13<00:00,  3.73it/s, epoch=49, loss=tensor([[135.3527]], grad_fn=<AddBackward0>), target=oss]         \n"
     ]
    },
    {
     "name": "stdout",
     "output_type": "stream",
     "text": [
      "训练时间: 13.42362380027771s\n",
      "\n",
      "预测花费时间: 0.01727890968322754s\n",
      "\n",
      "正确率: 86.45833333333334%\n",
      "\n"
     ]
    },
    {
     "name": "stderr",
     "output_type": "stream",
     "text": [
      "Building Huffman Tree: 100%|██████████| 23/23 [00:00<00:00, 15502.01it/s]\n",
      "100%|██████████| 50/50 [00:12<00:00,  3.85it/s, epoch=49, loss=tensor([[83.3032]], grad_fn=<AddBackward0>), target=mark]        \n"
     ]
    },
    {
     "name": "stdout",
     "output_type": "stream",
     "text": [
      "训练时间: 12.978238821029663s\n",
      "\n",
      "预测花费时间: 0.016725778579711914s\n",
      "\n",
      "正确率: 91.66666666666666%\n",
      "\n",
      "预测花费时间: 0.07262325286865234s\n",
      "\n",
      "正确率: 52.016129032258064%\n",
      "\n"
     ]
    },
    {
     "name": "stderr",
     "output_type": "stream",
     "text": [
      "Building Huffman Tree: 100%|██████████| 64/64 [00:00<00:00, 37360.54it/s]\n",
      "100%|██████████| 900/900 [02:33<00:00,  5.87it/s, epoch=899, loss=tensor([[51.5443]]), target=och]            \n"
     ]
    },
    {
     "name": "stdout",
     "output_type": "stream",
     "text": [
      "训练时间: 153.2229299545288s\n",
      "\n",
      "预测花费时间: 0.010106086730957031s\n",
      "\n",
      "正确率: 100.0%\n",
      "\n"
     ]
    },
    {
     "name": "stderr",
     "output_type": "stream",
     "text": [
      "Building Huffman Tree: 100%|██████████| 66/66 [00:00<00:00, 35462.99it/s]\n",
      "100%|██████████| 50/50 [00:12<00:00,  4.06it/s, epoch=49, loss=tensor([[46.3848]], grad_fn=<AddBackward0>), target=11]              \n"
     ]
    },
    {
     "name": "stdout",
     "output_type": "stream",
     "text": [
      "训练时间: 12.309238910675049s\n",
      "\n",
      "预测花费时间: 0.021917104721069336s\n",
      "\n",
      "正确率: 94.79166666666666%\n",
      "\n"
     ]
    },
    {
     "name": "stderr",
     "output_type": "stream",
     "text": [
      "Building Huffman Tree: 100%|██████████| 67/67 [00:00<00:00, 27180.42it/s]\n",
      "100%|██████████| 50/50 [00:13<00:00,  3.64it/s, epoch=49, loss=tensor([[73.8054]], grad_fn=<AddBackward0>), target=blåste]     \n"
     ]
    },
    {
     "name": "stdout",
     "output_type": "stream",
     "text": [
      "训练时间: 13.721467733383179s\n",
      "\n",
      "预测花费时间: 0.017343997955322266s\n",
      "\n",
      "正确率: 89.58333333333334%\n",
      "\n"
     ]
    },
    {
     "name": "stderr",
     "output_type": "stream",
     "text": [
      "Building Huffman Tree: 100%|██████████| 51/51 [00:00<00:00, 21896.77it/s]\n",
      "100%|██████████| 50/50 [00:13<00:00,  3.61it/s, epoch=49, loss=tensor([[78.4385]], grad_fn=<AddBackward0>), target=oss]         \n"
     ]
    },
    {
     "name": "stdout",
     "output_type": "stream",
     "text": [
      "训练时间: 13.854580402374268s\n",
      "\n",
      "预测花费时间: 0.0174562931060791s\n",
      "\n",
      "正确率: 92.70833333333334%\n",
      "\n"
     ]
    },
    {
     "name": "stderr",
     "output_type": "stream",
     "text": [
      "Building Huffman Tree: 100%|██████████| 23/23 [00:00<00:00, 23931.78it/s]\n",
      "100%|██████████| 50/50 [00:13<00:00,  3.83it/s, epoch=49, loss=tensor([[116.3825]], grad_fn=<AddBackward0>), target=mark]       \n"
     ]
    },
    {
     "name": "stdout",
     "output_type": "stream",
     "text": [
      "训练时间: 13.053485870361328s\n",
      "\n",
      "预测花费时间: 0.016431808471679688s\n",
      "\n",
      "正确率: 93.75%\n",
      "\n",
      "预测花费时间: 0.07562375068664551s\n",
      "\n",
      "正确率: 50.806451612903224%\n",
      "\n"
     ]
    },
    {
     "name": "stderr",
     "output_type": "stream",
     "text": [
      "Building Huffman Tree: 100%|██████████| 64/64 [00:00<00:00, 43443.19it/s]\n",
      "100%|██████████| 1000/1000 [02:52<00:00,  5.79it/s, epoch=999, loss=tensor([[76.7794]]), target=och]           \n"
     ]
    },
    {
     "name": "stdout",
     "output_type": "stream",
     "text": [
      "训练时间: 172.8183102607727s\n",
      "\n",
      "预测花费时间: 0.010137081146240234s\n",
      "\n",
      "正确率: 100.0%\n",
      "\n"
     ]
    },
    {
     "name": "stderr",
     "output_type": "stream",
     "text": [
      "Building Huffman Tree: 100%|██████████| 66/66 [00:00<00:00, 34146.30it/s]\n",
      "100%|██████████| 50/50 [00:12<00:00,  4.16it/s, epoch=49, loss=tensor([[48.0404]], grad_fn=<AddBackward0>), target=11]              \n"
     ]
    },
    {
     "name": "stdout",
     "output_type": "stream",
     "text": [
      "训练时间: 12.008909225463867s\n",
      "\n",
      "预测花费时间: 0.0152740478515625s\n",
      "\n",
      "正确率: 92.70833333333334%\n",
      "\n"
     ]
    },
    {
     "name": "stderr",
     "output_type": "stream",
     "text": [
      "Building Huffman Tree: 100%|██████████| 67/67 [00:00<00:00, 36139.19it/s]\n",
      "100%|██████████| 50/50 [00:13<00:00,  3.82it/s, epoch=49, loss=tensor([[91.4711]], grad_fn=<AddBackward0>), target=blåste]     \n"
     ]
    },
    {
     "name": "stdout",
     "output_type": "stream",
     "text": [
      "训练时间: 13.088255405426025s\n",
      "\n",
      "预测花费时间: 0.017394304275512695s\n",
      "\n",
      "正确率: 92.70833333333334%\n",
      "\n"
     ]
    },
    {
     "name": "stderr",
     "output_type": "stream",
     "text": [
      "Building Huffman Tree: 100%|██████████| 51/51 [00:00<00:00, 21637.62it/s]\n",
      "100%|██████████| 50/50 [00:13<00:00,  3.78it/s, epoch=49, loss=tensor([[108.2531]], grad_fn=<AddBackward0>), target=oss]        \n"
     ]
    },
    {
     "name": "stdout",
     "output_type": "stream",
     "text": [
      "训练时间: 13.222327947616577s\n",
      "\n",
      "预测花费时间: 0.016962766647338867s\n",
      "\n",
      "正确率: 86.45833333333334%\n",
      "\n"
     ]
    },
    {
     "name": "stderr",
     "output_type": "stream",
     "text": [
      "Building Huffman Tree: 100%|██████████| 23/23 [00:00<00:00, 34330.60it/s]\n",
      "100%|██████████| 50/50 [00:12<00:00,  3.92it/s, epoch=49, loss=tensor([[181.5283]], grad_fn=<AddBackward0>), target=mark]       \n"
     ]
    },
    {
     "name": "stdout",
     "output_type": "stream",
     "text": [
      "训练时间: 12.750833988189697s\n",
      "\n",
      "预测花费时间: 0.016927003860473633s\n",
      "\n",
      "正确率: 83.33333333333334%\n",
      "\n",
      "预测花费时间: 0.07455301284790039s\n",
      "\n",
      "正确率: 53.83064516129033%\n",
      "\n"
     ]
    }
   ],
   "source": [
    "epoch_list = [10,50,100,200,300,400,500,600,700,800,900,1000]\n",
    "alists = []\n",
    "tlist = []\n",
    "plist = []\n",
    "adlist = []\n",
    "for e in epoch_list:\n",
    "    accuracy_List, train_time_List, predict_time_List,all_data_accuracy = run_pic(e)\n",
    "    alists.append(accuracy_List)\n",
    "    tlist.append(train_time_List)\n",
    "    plist.append(predict_time_List)\n",
    "    adlist.append(all_data_accuracy)"
   ],
   "metadata": {
    "collapsed": false,
    "ExecuteTime": {
     "end_time": "2023-05-18T02:28:01.484600Z",
     "start_time": "2023-05-18T02:01:12.584665Z"
    }
   }
  },
  {
   "cell_type": "code",
   "execution_count": 49,
   "outputs": [
    {
     "name": "stdout",
     "output_type": "stream",
     "text": [
      "[[37.5, 91.66666666666666, 93.75, 92.70833333333334, 87.5], [86.45833333333334, 94.79166666666666, 92.70833333333334, 89.58333333333334, 86.45833333333334], [94.79166666666666, 92.70833333333334, 88.54166666666666, 88.54166666666666, 90.625], [96.875, 97.91666666666666, 92.70833333333334, 87.5, 87.5], [97.91666666666666, 96.875, 94.79166666666666, 87.5, 88.54166666666666], [97.91666666666666, 92.70833333333334, 90.625, 86.45833333333334, 89.58333333333334], [97.91666666666666, 95.83333333333334, 89.58333333333334, 85.41666666666666, 91.66666666666666], [98.95833333333334, 93.75, 90.625, 95.83333333333334, 85.41666666666666], [98.95833333333334, 90.625, 93.75, 83.33333333333334, 89.58333333333334], [100.0, 92.70833333333334, 91.66666666666666, 86.45833333333334, 91.66666666666666], [100.0, 94.79166666666666, 89.58333333333334, 92.70833333333334, 93.75], [100.0, 92.70833333333334, 92.70833333333334, 86.45833333333334, 83.33333333333334]]\n",
      "[43.346774193548384, 50.201612903225815, 49.193548387096776, 48.79032258064516, 53.2258064516129, 50.60483870967742, 49.193548387096776, 51.20967741935484, 52.21774193548387, 52.016129032258064, 50.806451612903224, 53.83064516129033]\n"
     ]
    },
    {
     "data": {
      "text/plain": "<Figure size 432x288 with 1 Axes>",
      "image/png": "[encoded data removed]"
     },
     "metadata": {
      "needs_background": "light"
     },
     "output_type": "display_data"
    }
   ],
   "source": [
    "def plot_pic(num):\n",
    "    for k in range(num):\n",
    "        plt.plot([i for i in range(1,len(alists[k]) + 1)],alists[k],label='IDA '+str(epoch_list[k]) + ' Epochs')\n",
    "        plt.plot([i for i in range(1,len(alists[k]) + 1)],[adlist[k] for i in range(len(alists[k]))],linestyle='--',label='ADA '+str(epoch_list[k]) + ' Epochs')\n",
    "\n",
    "print(alists)\n",
    "print(adlist)\n",
    "plot_pic(len(epoch_list))\n",
    "from matplotlib.ticker import MaxNLocator\n",
    "plt.gca().xaxis.set_major_locator(MaxNLocator(integer=True)) # 设置坐标轴为整数\n",
    "plt.title('Accuracy Changes During Incremental Training')\n",
    "plt.ylabel('Accuracy/%')\n",
    "\n",
    "plt.xlabel('Incremental Times')\n",
    "# plt.legend(loc='center right')\n",
    "plt.savefig('./Accuracy Changes During Incremental Training.png',dpi=600)"
   ],
   "metadata": {
    "collapsed": false,
    "ExecuteTime": {
     "end_time": "2023-05-18T03:19:06.251828Z",
     "start_time": "2023-05-18T03:19:05.815364Z"
    }
   }
  },
  {
   "cell_type": "code",
   "execution_count": 51,
   "outputs": [
    {
     "data": {
      "text/plain": "<Figure size 432x288 with 1 Axes>",
      "image/png": "[encoded data removed]"
     },
     "metadata": {
      "needs_background": "light"
     },
     "output_type": "display_data"
    }
   ],
   "source": [
    "plt.plot(epoch_list,adlist)\n",
    "plt.ylim((0, 100))\n",
    "plt.title('Incremental Training Accuracy with Different Epochs')\n",
    "plt.ylabel('Accuracy/%')\n",
    "plt.xlabel('Epochs/%')\n",
    "plt.legend(['Accuracy'], loc='upper right')\n",
    "plt.savefig('./Incremental Training Accuracy with Different Epochs',dpi=600)"
   ],
   "metadata": {
    "collapsed": false,
    "ExecuteTime": {
     "end_time": "2023-05-18T03:20:57.417764Z",
     "start_time": "2023-05-18T03:20:57.073964Z"
    }
   }
  },
  {
   "cell_type": "code",
   "execution_count": 47,
   "outputs": [
    {
     "data": {
      "text/plain": "<matplotlib.legend.Legend at 0x7fafb052e070>"
     },
     "execution_count": 47,
     "metadata": {},
     "output_type": "execute_result"
    },
    {
     "data": {
      "text/plain": "<Figure size 432x288 with 1 Axes>",
      "image/png": "[encoded data removed]"
     },
     "metadata": {
      "needs_background": "light"
     },
     "output_type": "display_data"
    }
   ],
   "source": [
    "plt.title('Training Time and Predicting Time during Incremental Training')\n",
    "plt.plot([i for i in range(1, len(train_time_List) + 1)],train_time_List)\n",
    "plt.plot([i for i in range(1, len(predict_time_List) + 1)],predict_time_List)\n",
    "plt.xlabel('Incremental Times')\n",
    "plt.ylabel('Time/s')\n",
    "plt.legend(['Training Time', 'Predicting Time'], loc='upper right')"
   ],
   "metadata": {
    "collapsed": false,
    "ExecuteTime": {
     "end_time": "2023-05-18T02:28:02.036042Z",
     "start_time": "2023-05-18T02:28:01.933548Z"
    }
   }
  },
  {
   "cell_type": "code",
   "execution_count": 47,
   "outputs": [],
   "source": [
    "\n"
   ],
   "metadata": {
    "collapsed": false,
    "ExecuteTime": {
     "end_time": "2023-05-18T02:28:02.036450Z",
     "start_time": "2023-05-18T02:28:02.008118Z"
    }
   }
  }
 ],
 "metadata": {
  "kernelspec": {
   "display_name": "Python 3",
   "language": "python",
   "name": "python3"
  },
  "language_info": {
   "codemirror_mode": {
    "name": "ipython",
    "version": 2
   },
   "file_extension": ".py",
   "mimetype": "text/x-python",
   "name": "python",
   "nbconvert_exporter": "python",
   "pygments_lexer": "ipython2",
   "version": "2.7.6"
  }
 },
 "nbformat": 4,
 "nbformat_minor": 0
}
